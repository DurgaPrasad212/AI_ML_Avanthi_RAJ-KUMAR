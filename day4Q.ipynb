{
  "nbformat": 4,
  "nbformat_minor": 0,
  "metadata": {
    "colab": {
      "provenance": [],
      "authorship_tag": "ABX9TyNQphutanNaf7B5iNWVz6wM",
      "include_colab_link": true
    },
    "kernelspec": {
      "name": "python3",
      "display_name": "Python 3"
    },
    "language_info": {
      "name": "python"
    }
  },
  "cells": [
    {
      "cell_type": "markdown",
      "metadata": {
        "id": "view-in-github",
        "colab_type": "text"
      },
      "source": [
        "<a href=\"https://colab.research.google.com/github/KARRIRAJKUMAR/AI_ML_Avanthi_RAJ-KUMAR/blob/main/day4Q.ipynb\" target=\"_parent\"><img src=\"https://colab.research.google.com/assets/colab-badge.svg\" alt=\"Open In Colab\"/></a>"
      ]
    },
    {
      "cell_type": "code",
      "execution_count": null,
      "metadata": {
        "id": "bBgTPadwZNT8"
      },
      "outputs": [],
      "source": [
        "#Create a 10x10 array with random values and find the minimum and maximum values"
      ]
    },
    {
      "cell_type": "code",
      "source": [
        "import numpy as np"
      ],
      "metadata": {
        "id": "ieNu3LngaRwy"
      },
      "execution_count": 5,
      "outputs": []
    },
    {
      "cell_type": "code",
      "source": [
        "a = np.random.randint(1,100, size = (10,10))\n",
        "print(\"Max = \", np.max(a))\n",
        "print(\"Min = \", np.min(a))"
      ],
      "metadata": {
        "colab": {
          "base_uri": "https://localhost:8080/"
        },
        "id": "brsh1JeuZTgi",
        "outputId": "af404caf-3adc-4d2c-eef7-59b85e2516b7"
      },
      "execution_count": 7,
      "outputs": [
        {
          "output_type": "stream",
          "name": "stdout",
          "text": [
            "Max =  99\n",
            "Min =  1\n"
          ]
        }
      ]
    },
    {
      "cell_type": "markdown",
      "source": [
        "Create a 2d array with 1 on the border and 0 inside"
      ],
      "metadata": {
        "id": "UuS3oTeuaj1p"
      }
    },
    {
      "cell_type": "code",
      "source": [
        "x=np.ones((4,4))\n",
        "x[1:-1,1:-1]=0\n",
        "print(x)"
      ],
      "metadata": {
        "colab": {
          "base_uri": "https://localhost:8080/"
        },
        "id": "pXf9bwo3ary5",
        "outputId": "c4640634-02ed-432d-9cf6-8487fa3ac0a6"
      },
      "execution_count": 11,
      "outputs": [
        {
          "output_type": "stream",
          "name": "stdout",
          "text": [
            "[[1. 1. 1. 1.]\n",
            " [1. 0. 0. 1.]\n",
            " [1. 0. 0. 1.]\n",
            " [1. 1. 1. 1.]]\n"
          ]
        }
      ]
    },
    {
      "cell_type": "markdown",
      "source": [
        "13.Create a 8x8 matrix and fill it with a checkerboard pattern"
      ],
      "metadata": {
        "id": "UYOrl8SxcxUh"
      }
    },
    {
      "cell_type": "code",
      "source": [
        "x=np.zeros((8,8))\n",
        "x[1::2,::2]=1\n",
        "x[::2,1::2]=1\n",
        "x"
      ],
      "metadata": {
        "colab": {
          "base_uri": "https://localhost:8080/"
        },
        "id": "D4HBLfkodC05",
        "outputId": "5496ab7e-8d91-4364-9704-af2afa87f45d"
      },
      "execution_count": 12,
      "outputs": [
        {
          "output_type": "execute_result",
          "data": {
            "text/plain": [
              "array([[0., 1., 0., 1., 0., 1., 0., 1.],\n",
              "       [1., 0., 1., 0., 1., 0., 1., 0.],\n",
              "       [0., 1., 0., 1., 0., 1., 0., 1.],\n",
              "       [1., 0., 1., 0., 1., 0., 1., 0.],\n",
              "       [0., 1., 0., 1., 0., 1., 0., 1.],\n",
              "       [1., 0., 1., 0., 1., 0., 1., 0.],\n",
              "       [0., 1., 0., 1., 0., 1., 0., 1.],\n",
              "       [1., 0., 1., 0., 1., 0., 1., 0.]])"
            ]
          },
          "metadata": {},
          "execution_count": 12
        }
      ]
    },
    {
      "cell_type": "markdown",
      "source": [
        "14.Multiply a 5x3 matrix by a 3x2 matrix (real matrix product)"
      ],
      "metadata": {
        "id": "dNS_hcj7fLXq"
      }
    },
    {
      "cell_type": "code",
      "source": [
        "x=np.random.rand(5,3)\n",
        "print(x)\n",
        "y=np.random.rand(3,2)\n",
        "print(y)\n",
        "np.matmul(x,y)"
      ],
      "metadata": {
        "colab": {
          "base_uri": "https://localhost:8080/"
        },
        "id": "ndgZK3RKfTIU",
        "outputId": "bfadb27d-cca5-40bf-cf7e-9e95481105fa"
      },
      "execution_count": 21,
      "outputs": [
        {
          "output_type": "stream",
          "name": "stdout",
          "text": [
            "[[0.18256877 0.01935735 0.1966195 ]\n",
            " [0.06649716 0.39815596 0.03930886]\n",
            " [0.57506816 0.82972719 0.93772249]\n",
            " [0.50785052 0.93581872 0.85215221]\n",
            " [0.15446895 0.24325415 0.71922112]]\n",
            "[[0.95473907 0.73591605]\n",
            " [0.92800459 0.10599223]\n",
            " [0.13342379 0.79502892]]\n"
          ]
        },
        {
          "output_type": "execute_result",
          "data": {
            "text/plain": [
              "array([[0.21850296, 0.2927252 ],\n",
              "       [0.43822273, 0.12238944],\n",
              "       [1.44414516, 1.25666302],\n",
              "       [1.46700617, 1.15041051],\n",
              "       [0.46917972, 0.71126082]])"
            ]
          },
          "metadata": {},
          "execution_count": 21
        }
      ]
    },
    {
      "cell_type": "markdown",
      "source": [
        "15.How to find common values between two arrays?"
      ],
      "metadata": {
        "id": "BMW0rFCNijwc"
      }
    },
    {
      "cell_type": "code",
      "source": [
        "x = np.array([0, 1, 2, 3, 4])\n",
        "y=np.array([1, 3, 4])\n",
        "print(np.intersect1d(x,y))"
      ],
      "metadata": {
        "colab": {
          "base_uri": "https://localhost:8080/"
        },
        "id": "QeqcKTbLirvl",
        "outputId": "12b3b812-bfa9-4b9d-d086-d4b152c67ac1"
      },
      "execution_count": 24,
      "outputs": [
        {
          "output_type": "stream",
          "name": "stdout",
          "text": [
            "[1 3 4]\n"
          ]
        }
      ]
    },
    {
      "cell_type": "markdown",
      "source": [
        "17.Create a random vector of size 10 and sort it"
      ],
      "metadata": {
        "id": "-WTqGeQekejJ"
      }
    },
    {
      "cell_type": "code",
      "source": [
        "x=np.random.rand(10)\n",
        "print(x)\n",
        "x.sort()\n",
        "print(x)"
      ],
      "metadata": {
        "colab": {
          "base_uri": "https://localhost:8080/"
        },
        "id": "kNm2-eyZknM2",
        "outputId": "0615c9f7-0ded-44f5-e67e-ee11e377efb8"
      },
      "execution_count": 28,
      "outputs": [
        {
          "output_type": "stream",
          "name": "stdout",
          "text": [
            "[0.33436666 0.34482779 0.91926314 0.99286851 0.37463634 0.66788989\n",
            " 0.97524859 0.93172226 0.88605143 0.42120632]\n",
            "[0.33436666 0.34482779 0.37463634 0.42120632 0.66788989 0.88605143\n",
            " 0.91926314 0.93172226 0.97524859 0.99286851]\n"
          ]
        }
      ]
    }
  ]
}